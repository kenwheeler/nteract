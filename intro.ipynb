{
 "cells": [
  {
   "cell_type": "code",
   "execution_count": 1,
   "metadata": {
    "collapsed": false
   },
   "outputs": [
    {
     "data": {
      "text/html": [
       "<h1>Multiple</h1>"
      ],
      "text/plain": [
       "<IPython.core.display.HTML object>"
      ]
     },
     "metadata": {},
     "output_type": "display_data"
    },
    {
     "data": {
      "text/html": [
       "<p>Display Elements</p>"
      ],
      "text/plain": [
       "<IPython.core.display.HTML object>"
      ]
     },
     "metadata": {},
     "output_type": "display_data"
    },
    {
     "data": {
      "text/markdown": [
       "**awesome**"
      ],
      "text/plain": [
       "<IPython.core.display.Markdown object>"
      ]
     },
     "metadata": {},
     "output_type": "display_data"
    },
    {
     "name": "stdout",
     "output_type": "stream",
     "text": [
      "hey\n"
     ]
    },
    {
     "data": {
      "text/plain": [
       "42"
      ]
     },
     "execution_count": 1,
     "metadata": {},
     "output_type": "execute_result"
    }
   ],
   "source": [
    "import IPython\n",
    "\n",
    "from IPython.display import HTML\n",
    "from IPython.display import Markdown\n",
    "from IPython.display import display\n",
    "\n",
    "display(HTML(\"<h1>Multiple</h1>\"))\n",
    "display(HTML(\"<p>Display Elements</p>\"))\n",
    "display(Markdown('**awesome**'))\n",
    "\n",
    "print('hey')\n",
    "42"
   ]
  },
  {
   "cell_type": "code",
   "execution_count": null,
   "metadata": {
    "collapsed": true
   },
   "outputs": [],
   "source": []
  },
  {
   "cell_type": "code",
   "execution_count": null,
   "metadata": {
    "collapsed": true
   },
   "outputs": [],
   "source": []
  },
  {
   "cell_type": "code",
   "execution_count": null,
   "metadata": {
    "collapsed": true
   },
   "outputs": [],
   "source": []
  },
  {
   "cell_type": "code",
   "execution_count": null,
   "metadata": {
    "collapsed": true
   },
   "outputs": [],
   "source": []
  },
  {
   "cell_type": "code",
   "execution_count": null,
   "metadata": {
    "collapsed": true
   },
   "outputs": [],
   "source": []
  },
  {
   "cell_type": "code",
   "execution_count": 5,
   "metadata": {
    "collapsed": false,
    "scrolled": true
   },
   "outputs": [
    {
     "name": "stdout",
     "output_type": "stream",
     "text": [
      "\u001b[1m\u001b[36m10-4\u001b[m\u001b[m\r\n",
      "\u001b[1m\u001b[36mAppBoy\u001b[m\u001b[m\r\n",
      "\u001b[1m\u001b[36mAutomationTest\u001b[m\u001b[m\r\n",
      "\u001b[1m\u001b[36mAwesomeProjects\u001b[m\u001b[m\r\n",
      "\u001b[1m\u001b[36mComponentTester\u001b[m\u001b[m\r\n",
      "\u001b[1m\u001b[36mFartApp\u001b[m\u001b[m\r\n",
      "\u001b[1m\u001b[36mFluxExample\u001b[m\u001b[m\r\n",
      "\u001b[1m\u001b[36mNativeStarter\u001b[m\u001b[m\r\n",
      "\u001b[1m\u001b[36mPocketReact\u001b[m\u001b[m\r\n",
      "\u001b[1m\u001b[36mRNTest\u001b[m\u001b[m\r\n",
      "\u001b[1m\u001b[36mSVGKit\u001b[m\u001b[m\r\n",
      "\u001b[1m\u001b[36mSampleApp\u001b[m\u001b[m\r\n",
      "\u001b[1m\u001b[36mScannerApp\u001b[m\u001b[m\r\n",
      "\u001b[1m\u001b[36mStyleSheet\u001b[m\u001b[m\r\n",
      "\u001b[1m\u001b[36mTest\u001b[m\u001b[m\r\n",
      "\u001b[1m\u001b[36mWellnessApp\u001b[m\u001b[m\r\n",
      "\u001b[1m\u001b[36masburyagile\u001b[m\u001b[m\r\n",
      "\u001b[1m\u001b[36matlassian\u001b[m\u001b[m\r\n",
      "\u001b[1m\u001b[36mautomation-react-native-demo\u001b[m\u001b[m\r\n",
      "\u001b[1m\u001b[36mawesome\u001b[m\u001b[m\r\n",
      "\u001b[1m\u001b[36mbabel-plugin\u001b[m\u001b[m\r\n",
      "\u001b[1m\u001b[36mbedrock\u001b[m\u001b[m\r\n",
      "\u001b[1m\u001b[36mbiff\u001b[m\u001b[m\r\n",
      "\u001b[1m\u001b[36mbiff-boilerplate\u001b[m\u001b[m\r\n",
      "\u001b[1m\u001b[36mboilerplate\u001b[m\u001b[m\r\n",
      "\u001b[1m\u001b[36mboilerplate-test\u001b[m\u001b[m\r\n",
      "\u001b[1m\u001b[36mbroceanic-theme\u001b[m\u001b[m\r\n",
      "\u001b[1m\u001b[36mbrogrammer-devtools\u001b[m\u001b[m\r\n",
      "\u001b[1m\u001b[36mbrogrammer-syntax\u001b[m\u001b[m\r\n",
      "\u001b[1m\u001b[36mbrogrammer-theme\u001b[m\u001b[m\r\n",
      "\u001b[1m\u001b[36mbrogrammer-ui\u001b[m\u001b[m\r\n",
      "\u001b[1m\u001b[36mcalendar\u001b[m\u001b[m\r\n",
      "\u001b[1m\u001b[36mcarousel\u001b[m\u001b[m\r\n",
      "\u001b[1m\u001b[36mcash\u001b[m\u001b[m\r\n",
      "\u001b[1m\u001b[36mcljs\u001b[m\u001b[m\r\n",
      "\u001b[1m\u001b[36mcomponent-playground\u001b[m\u001b[m\r\n",
      "\u001b[1m\u001b[36mcomprx\u001b[m\u001b[m\r\n",
      "\u001b[1m\u001b[36mconverter-react\u001b[m\u001b[m\r\n",
      "\u001b[1m\u001b[36mcoral-boilerplate\u001b[m\u001b[m\r\n",
      "\u001b[1m\u001b[36mcordova-starter-kit\u001b[m\u001b[m\r\n",
      "\u001b[1m\u001b[36mcosby\u001b[m\u001b[m\r\n",
      "\u001b[1m\u001b[36mcoworks-workshop\u001b[m\u001b[m\r\n",
      "\u001b[1m\u001b[36mcurved-carousel\u001b[m\u001b[m\r\n",
      "\u001b[1m\u001b[36mdotfiles\u001b[m\u001b[m\r\n",
      "\u001b[1m\u001b[36mdracula-theme\u001b[m\u001b[m\r\n",
      "\u001b[1m\u001b[36mdrydock-boilerplate\u001b[m\u001b[m\r\n",
      "\u001b[1m\u001b[36mdrydock-boilerplate-json\u001b[m\u001b[m\r\n",
      "\u001b[1m\u001b[36mecology\u001b[m\u001b[m\r\n",
      "\u001b[1m\u001b[36melectrode-react-component-boilerplate\u001b[m\u001b[m\r\n",
      "\u001b[1m\u001b[36melm-project\u001b[m\u001b[m\r\n",
      "\u001b[1m\u001b[36mexponentcontest\u001b[m\u001b[m\r\n",
      "\u001b[1m\u001b[36mfeathers-chat\u001b[m\u001b[m\r\n",
      "\u001b[1m\u001b[36mfluorine\u001b[m\u001b[m\r\n",
      "\u001b[1m\u001b[36mflux-cart\u001b[m\u001b[m\r\n",
      "\u001b[1m\u001b[36mflux-example\u001b[m\u001b[m\r\n",
      "\u001b[1m\u001b[36mformidable-react-native-app-boilerplate\u001b[m\u001b[m\r\n",
      "\u001b[1m\u001b[36mgit-therapist\u001b[m\u001b[m\r\n",
      "\u001b[1m\u001b[36mguff\u001b[m\u001b[m\r\n",
      "\u001b[1m\u001b[36mgulp-helper\u001b[m\u001b[m\r\n",
      "\u001b[1m\u001b[36minfinite-swipe\u001b[m\u001b[m\r\n",
      "\u001b[1m\u001b[36minfinte-scroll\u001b[m\u001b[m\r\n",
      "\u001b[1m\u001b[36mitem-page\u001b[m\u001b[m\r\n",
      "\u001b[1m\u001b[36mjackwellness\u001b[m\u001b[m\r\n",
      "\u001b[1m\u001b[36mkenwheeler.github.com\u001b[m\u001b[m\r\n",
      "\u001b[1m\u001b[36mmaestro\u001b[m\u001b[m\r\n",
      "\u001b[1m\u001b[36mmcfly\u001b[m\u001b[m\r\n",
      "\u001b[1m\u001b[36mmerges\u001b[m\u001b[m\r\n",
      "\u001b[1m\u001b[36mmobile-day-demo\u001b[m\u001b[m\r\n",
      "\u001b[1m\u001b[36mmobile-day-presentation\u001b[m\u001b[m\r\n",
      "\u001b[1m\u001b[36mmocks\u001b[m\u001b[m\r\n",
      "\u001b[1m\u001b[36mmyproject\u001b[m\u001b[m\r\n",
      "\u001b[1m\u001b[36mnode_modules\u001b[m\u001b[m\r\n",
      "\u001b[1m\u001b[36mnpmtest\u001b[m\u001b[m\r\n",
      "\u001b[1m\u001b[36mnteract\u001b[m\u001b[m\r\n",
      "\u001b[1m\u001b[36mnuka-carousel\u001b[m\u001b[m\r\n",
      "\u001b[1m\u001b[36momni-tabs\u001b[m\u001b[m\r\n",
      "omni-tabs.zip\r\n",
      "\u001b[1m\u001b[36mpackage_control_channel\u001b[m\u001b[m\r\n",
      "\u001b[1m\u001b[36mpharmacy-api\u001b[m\u001b[m\r\n",
      "\u001b[1m\u001b[36mpharmacy-native\u001b[m\u001b[m\r\n",
      "\u001b[1m\u001b[36mplatforms\u001b[m\u001b[m\r\n",
      "\u001b[1m\u001b[36mplugins\u001b[m\u001b[m\r\n",
      "\u001b[1m\u001b[36mpostocracy\u001b[m\u001b[m\r\n",
      "\u001b[1m\u001b[36mproducts\u001b[m\u001b[m\r\n",
      "\u001b[1m\u001b[36mprototype\u001b[m\u001b[m\r\n",
      "\u001b[1m\u001b[36mradium\u001b[m\u001b[m\r\n",
      "\u001b[1m\u001b[36mradium-bootstrap\u001b[m\u001b[m\r\n",
      "\u001b[1m\u001b[36mreact\u001b[m\u001b[m\r\n",
      "\u001b[1m\u001b[36mreact-animation\u001b[m\u001b[m\r\n",
      "\u001b[1m\u001b[36mreact-autostyleguide\u001b[m\u001b[m\r\n",
      "\u001b[1m\u001b[36mreact-blessed\u001b[m\u001b[m\r\n",
      "\u001b[1m\u001b[36mreact-boilerplate\u001b[m\u001b[m\r\n",
      "\u001b[1m\u001b[36mreact-conf\u001b[m\u001b[m\r\n",
      "\u001b[1m\u001b[36mreact-conf-formidable\u001b[m\u001b[m\r\n",
      "\u001b[1m\u001b[36mreact-demo-shared\u001b[m\u001b[m\r\n",
      "\u001b[1m\u001b[36mreact-example\u001b[m\u001b[m\r\n",
      "\u001b[1m\u001b[36mreact-flux-concepts\u001b[m\u001b[m\r\n",
      "\u001b[1m\u001b[36mreact-jupyter-display-area\u001b[m\u001b[m\r\n",
      "\u001b[1m\u001b[36mreact-native\u001b[m\u001b[m\r\n",
      "\u001b[1m\u001b[36mreact-native-babel\u001b[m\u001b[m\r\n",
      "\u001b[1m\u001b[36mreact-native-boilerplate\u001b[m\u001b[m\r\n",
      "\u001b[1m\u001b[36mreact-native-orientation-listener\u001b[m\u001b[m\r\n",
      "\u001b[1m\u001b[36mreact-native-starter\u001b[m\u001b[m\r\n",
      "\u001b[1m\u001b[36mreact-native-svg\u001b[m\u001b[m\r\n",
      "\u001b[1m\u001b[36mreact-project\u001b[m\u001b[m\r\n",
      "\u001b[1m\u001b[36mreact-raf-batching\u001b[m\u001b[m\r\n",
      "\u001b[1m\u001b[36mreact-router\u001b[m\u001b[m\r\n",
      "\u001b[1m\u001b[36mreact-scroll-carousel\u001b[m\u001b[m\r\n",
      "\u001b[1m\u001b[36mreact-shuffle\u001b[m\u001b[m\r\n",
      "\u001b[1m\u001b[36mreact-test-helpers\u001b[m\u001b[m\r\n",
      "\u001b[1m\u001b[36mreact-tweets\u001b[m\u001b[m\r\n",
      "\u001b[1m\u001b[36mreact-ui-builder\u001b[m\u001b[m\r\n",
      "\u001b[1m\u001b[36mreactapp\u001b[m\u001b[m\r\n",
      "\u001b[1m\u001b[36mreactive2015\u001b[m\u001b[m\r\n",
      "\u001b[1m\u001b[36mreagent\u001b[m\u001b[m\r\n",
      "\u001b[1m\u001b[36mrecruiting\u001b[m\u001b[m\r\n",
      "\u001b[1m\u001b[36mreddit\u001b[m\u001b[m\r\n",
      "\u001b[1m\u001b[36mredux\u001b[m\u001b[m\r\n",
      "\u001b[1m\u001b[36mrelay-starter-kit\u001b[m\u001b[m\r\n",
      "\u001b[1m\u001b[36mrethink\u001b[m\u001b[m\r\n",
      "\u001b[1m\u001b[36mrn-getting-started\u001b[m\u001b[m\r\n",
      "\u001b[1m\u001b[36mrx-graphql-server\u001b[m\u001b[m\r\n",
      "\u001b[1m\u001b[36mscotch-box\u001b[m\u001b[m\r\n",
      "\u001b[1m\u001b[36msilo\u001b[m\u001b[m\r\n",
      "\u001b[1m\u001b[36mslick\u001b[m\u001b[m\r\n",
      "\u001b[1m\u001b[36mspectacle\u001b[m\u001b[m\r\n",
      "\u001b[1m\u001b[36mspectacle-boilerplate\u001b[m\u001b[m\r\n",
      "\u001b[1m\u001b[36mspectacle-builder\u001b[m\u001b[m\r\n",
      "\u001b[1m\u001b[36mstart-app\u001b[m\u001b[m\r\n",
      "\u001b[1m\u001b[36mstructure\u001b[m\u001b[m\r\n",
      "\u001b[1m\u001b[36mstyleguidelocal\u001b[m\u001b[m\r\n",
      "\u001b[1m\u001b[36mtammy\u001b[m\u001b[m\r\n",
      "\u001b[1m\u001b[36mtask-list\u001b[m\u001b[m\r\n",
      "\u001b[1m\u001b[36mtodd-redux\u001b[m\u001b[m\r\n",
      "\u001b[1m\u001b[36mtopanga\u001b[m\u001b[m\r\n",
      "\u001b[1m\u001b[36mtv-native\u001b[m\u001b[m\r\n",
      "\u001b[1m\u001b[36mundergroundgym\u001b[m\u001b[m\r\n",
      "\u001b[1m\u001b[36mundergroundgymredbank\u001b[m\u001b[m\r\n",
      "\u001b[1m\u001b[36mvelocity\u001b[m\u001b[m\r\n",
      "\u001b[1m\u001b[36mvelocity-react\u001b[m\u001b[m\r\n",
      "\u001b[1m\u001b[36mvictory\u001b[m\u001b[m\r\n",
      "\u001b[1m\u001b[36mw2g-summit-arch-react-alt\u001b[m\u001b[m\r\n",
      "\u001b[1m\u001b[36mwalmart-ios\u001b[m\u001b[m\r\n",
      "\u001b[1m\u001b[36mwalmart-react-native-starter\u001b[m\u001b[m\r\n",
      "\u001b[1m\u001b[36mweb-react-store-locator\u001b[m\u001b[m\r\n",
      "\u001b[1m\u001b[36mwellness\u001b[m\u001b[m\r\n"
     ]
    }
   ],
   "source": [
    "! ls .."
   ]
  },
  {
   "cell_type": "markdown",
   "metadata": {},
   "source": [
    "## The Notable Nteract Notebook\n",
    "\n",
    "![comp](https://assets-cdn.github.com/images/icons/emoji/unicode/1f4d3.png)\n",
    "\n",
    "**It's a notebook!**\n",
    "\n",
    "This is a standalone notebook for interacting with the REPL of your choice, being built at [nteract/nteract](https://github.com/nteract/nteract). The primary goals are:\n",
    "\n",
    "* Standalone distributable application for the notebook (in Electron!)\n",
    "* One click installers for OS X and Windows\n",
    "* Bundles a kernel with scientific Python packages\n",
    "* Integrates well with the current ecosystem of tooling\n",
    "  * Should be able to detect other kernels\n",
    "  * Comms should work (for ipywidgets)"
   ]
  },
  {
   "cell_type": "code",
   "execution_count": 6,
   "metadata": {
    "collapsed": false,
    "scrolled": true
   },
   "outputs": [
    {
     "ename": "NameError",
     "evalue": "name 'thistextwillerrorff' is not defined",
     "output_type": "error",
     "traceback": [
      "\u001b[0;31m---------------------------------------------------------------------------\u001b[0m",
      "\u001b[0;31mNameError\u001b[0m                                 Traceback (most recent call last)",
      "\u001b[0;32m<ipython-input-6-a362fc4c7fe0>\u001b[0m in \u001b[0;36m<module>\u001b[0;34m()\u001b[0m\n\u001b[0;32m----> 1\u001b[0;31m \u001b[0mthistextwillerrorff\u001b[0m\u001b[0;34m\u001b[0m\u001b[0m\n\u001b[0m",
      "\u001b[0;31mNameError\u001b[0m: name 'thistextwillerrorff' is not defined"
     ]
    }
   ],
   "source": [
    "thistextwillerrorff"
   ]
  },
  {
   "cell_type": "code",
   "execution_count": 7,
   "metadata": {
    "collapsed": false
   },
   "outputs": [
    {
     "data": {
      "text/html": [
       "<img src=\"https://avatars2.githubusercontent.com/u/12401040?v=3&s=200\"/>"
      ],
      "text/plain": [
       "<IPython.core.display.Image object>"
      ]
     },
     "execution_count": 7,
     "metadata": {},
     "output_type": "execute_result"
    }
   ],
   "source": [
    "from IPython.display import Image\n",
    "Image(url='https://avatars2.githubusercontent.com/u/12401040?v=3&s=200')"
   ]
  },
  {
   "cell_type": "code",
   "execution_count": null,
   "metadata": {
    "collapsed": true
   },
   "outputs": [],
   "source": []
  },
  {
   "cell_type": "code",
   "execution_count": null,
   "metadata": {
    "collapsed": true
   },
   "outputs": [],
   "source": []
  },
  {
   "cell_type": "code",
   "execution_count": null,
   "metadata": {
    "collapsed": true
   },
   "outputs": [],
   "source": []
  },
  {
   "cell_type": "code",
   "execution_count": null,
   "metadata": {
    "collapsed": true
   },
   "outputs": [],
   "source": []
  }
 ],
 "metadata": {
  "kernelspec": {
   "display_name": "Python 3",
   "language": "python",
   "name": "python3"
  },
  "language_info": {
   "codemirror_mode": {
    "name": "ipython",
    "version": 3
   },
   "file_extension": ".py",
   "mimetype": "text/x-python",
   "name": "python",
   "nbconvert_exporter": "python",
   "pygments_lexer": "ipython3",
   "version": "3.5.1"
  }
 },
 "nbformat": 4,
 "nbformat_minor": 0
}
